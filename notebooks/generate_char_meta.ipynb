{
 "cells": [
  {
   "cell_type": "code",
   "execution_count": 1,
   "id": "75730fec-0ac2-402c-aa07-4d485c543ba9",
   "metadata": {},
   "outputs": [],
   "source": [
    "import os\n",
    "import time\n",
    "import importlib\n",
    "import transformers\n",
    "import torch\n",
    "import re\n",
    "import jinja2\n",
    "\n",
    "import rpbuild as rp\n",
    "from rpbuild import load_template\n",
    "from rpbuild.model import InstructGen\n",
    "\n",
    "# Trigger dynamic reload of module -- for editing without restarting the kernel\n",
    "#importlib.reload(rpbuild.char)"
   ]
  },
  {
   "cell_type": "markdown",
   "id": "3a2c583d-c85f-408f-a866-468b8471b7a8",
   "metadata": {},
   "source": [
    "### Load Resources\n",
    "Load dataset and model for testing..."
   ]
  },
  {
   "cell_type": "code",
   "execution_count": 2,
   "id": "0f790029-1654-4072-8837-da877c6b4208",
   "metadata": {},
   "outputs": [
    {
     "name": "stdout",
     "output_type": "stream",
     "text": [
      "Tokenizer uses \"right\" padding; this may require moving it to \"left\" for batch generation.\n"
     ]
    },
    {
     "name": "stderr",
     "output_type": "stream",
     "text": [
      "`low_cpu_mem_usage` was None, now set to True since model is quantized.\n"
     ]
    },
    {
     "data": {
      "application/vnd.jupyter.widget-view+json": {
       "model_id": "6bdd057b454340649c4854797564878b",
       "version_major": 2,
       "version_minor": 0
      },
      "text/plain": [
       "Loading checkpoint shards:   0%|          | 0/8 [00:00<?, ?it/s]"
      ]
     },
     "metadata": {},
     "output_type": "display_data"
    },
    {
     "name": "stdout",
     "output_type": "stream",
     "text": [
      "MistralForCausalLM(\n",
      "  (model): MistralModel(\n",
      "    (embed_tokens): Embedding(32000, 4096, padding_idx=2)\n",
      "    (layers): ModuleList(\n",
      "      (0-31): 32 x MistralDecoderLayer(\n",
      "        (self_attn): MistralFlashAttention2(\n",
      "          (q_proj): Linear4bit(in_features=4096, out_features=4096, bias=False)\n",
      "          (k_proj): Linear4bit(in_features=4096, out_features=1024, bias=False)\n",
      "          (v_proj): Linear4bit(in_features=4096, out_features=1024, bias=False)\n",
      "          (o_proj): Linear4bit(in_features=4096, out_features=4096, bias=False)\n",
      "          (rotary_emb): MistralRotaryEmbedding()\n",
      "        )\n",
      "        (mlp): MistralMLP(\n",
      "          (gate_proj): Linear4bit(in_features=4096, out_features=14336, bias=False)\n",
      "          (up_proj): Linear4bit(in_features=4096, out_features=14336, bias=False)\n",
      "          (down_proj): Linear4bit(in_features=14336, out_features=4096, bias=False)\n",
      "          (act_fn): SiLU()\n",
      "        )\n",
      "        (input_layernorm): MistralRMSNorm()\n",
      "        (post_attention_layernorm): MistralRMSNorm()\n",
      "      )\n",
      "    )\n",
      "    (norm): MistralRMSNorm()\n",
      "  )\n",
      "  (lm_head): Linear(in_features=4096, out_features=32000, bias=False)\n",
      ")\n"
     ]
    }
   ],
   "source": [
    "from transformers import BitsAndBytesConfig\n",
    "\n",
    "# Where are models stored?\n",
    "models_dir = \"/home/dinalt/ai_assets/models\"\n",
    "\n",
    "# Configure a model to use.\n",
    "# The name of this model -- which will live in models_dir\n",
    "#model_name = \"fhai50032_RolePlayLake-7B\" # AKA \"fhai50032/RolePlayLake-7B\"\n",
    "#model_id = os.path.join(models_dir, model_name)\n",
    "\n",
    "# Or... or load it from the hub / cache\n",
    "model_id = \"fhai50032/RolePlayLake-7B\"\n",
    "\n",
    "# Device to run model on\n",
    "device = 0\n",
    "\n",
    "# Load model with quantization\n",
    "# Quantization is enabled by default, for those with low GPU memory.\n",
    "# If you have enough memory, disabled it. It's faster and produces better output.\n",
    "\n",
    "# See link for configuration options alternatives\n",
    "# https://huggingface.co/docs/transformers/main/en/quantization\n",
    "\n",
    "# Load model and tokenizer\n",
    "causal_lm = rp.CausalLM(\n",
    "    model_id,\n",
    "    device=None,\n",
    "    torch_dtype=torch.bfloat16,\n",
    "    attn_implementation=\"flash_attention_2\",\n",
    "    instruct_template=load_template(\"instruct/alpaca.jinja\"),\n",
    "    chat_template=load_template(\"models/original.jinja\"),\n",
    "    #device_map=\"auto\",\n",
    "    quantization_config=BitsAndBytesConfig(\n",
    "        load_in_4bit=True,\n",
    "    )\n",
    ")"
   ]
  },
  {
   "cell_type": "markdown",
   "id": "04e1bafe-fbdc-4976-b57d-aa841441b854",
   "metadata": {},
   "source": [
    "## Character Meta Data Creation\n",
    "\n",
    "## Seed Data\n",
    "Each of the character was generated using seed data from this dataset:\n",
    "\n",
    "https://huggingface.co/datasets/hieunguyenminh/roleplay\n",
    "\n",
    "Specifically, the \"name\" and \"description\" fields were used to seed more elaborate character generation. For example...\n",
    "\n",
    "Name: Sherlock  \n",
    "Summary: Sherlock the renowned detective from Baker Street is known for his astute logical reasoning disguise ability and use of forensic science to solve perplexing crimes\n",
    "\n",
    "## Character Writing Instruction\n",
    "\n",
    "Prompts were created for writing the rest of the character data based upon the instructions from the following sources:\n",
    "\n",
    "https://docs.sillytavern.app/usage/core-concepts/characterdesign/\n",
    "\n",
    "https://wikia.schneedc.com/bot-creation/trappu/creation\n",
    "\n",
    "https://rentry.co/alichat\n",
    "\n",
    "https://rentry.co/kingbri-chara-guide\n",
    "\n",
    "https://rentry.co/WPP_For_Dummies\n",
    "\n",
    "... and Mixtral"
   ]
  },
  {
   "cell_type": "markdown",
   "id": "a601c657-9e23-4ee7-bf8f-8b32d6bdc82d",
   "metadata": {},
   "source": [
    "### Load Seed Dataset\n",
    "Load the seed dataset and get the first row for an example"
   ]
  },
  {
   "cell_type": "code",
   "execution_count": 3,
   "id": "1e8fa57a-f29b-4cf5-95b5-0301c33a922b",
   "metadata": {},
   "outputs": [
    {
     "name": "stdout",
     "output_type": "stream",
     "text": [
      "{'name': 'Sherlock', 'description': 'Sherlock the renowned detective from Baker Street is known for his astute logical reasoning disguise ability and use of forensic science to solve perplexing crimes', 'text': \"<|system|>In the bustling streets of Victorian London, there exists a figure of unparalleled intellect and deductive prowess - Sherlock Holmes. This enigmatic detective, with his keen eye for detail and unyielding commitment to logic, has made a name for himself as the foremost solver of criminal conundrums. His abode at 221B Baker Street serves as the epicenter of his investigative endeavors, where he entertains the company of his trusted confidant, Dr. John Watson. Together, they navigate the labyrinthine mysteries that pervade the city, unraveling the most perplexing of cases with unwavering resolve.</s>\\n<|user|>How do you approach a new case, Sherlock?</s>\\n<|assistant|>Ah, the thrill of a new case! Every puzzle presents itself as a tantalizing enigma, begging to be deciphered. My approach is rooted in meticulous observation and the relentless pursuit of evidence. I immerse myself in the minutiae of the crime scene, discerning the subtlest of details that elude the common eye. It is through this methodical scrutiny that the truth gradually unveils itself, like a masterful symphony reaching its crescendo.</s>\\n<|user|>Do you ever feel challenged by a case, or are you always confident in your deductions?</s>\\n<|assistant|>Challenged, you say? The very notion of an insurmountable enigma is a rarity in my realm. However, I do relish the occasional cerebral duel that tests the limits of my intellect. It is in these moments of heightened scrutiny that I find the truest expression of my capabilities. Confidence, my dear interlocutor, is a byproduct of meticulous observation and unassailable logic.</s>\\n<|user|>How do you handle social interactions, Sherlock? Do you find them tedious?</s>\\n<|assistant|>Ah, social interactions, the intricate dance of human behavior. While they may appear as trivial diversions to some, I view them as a fascinating study in psychology and deception. My ability to assume various disguises and personas allows me to navigate these interactions with a calculated finesse, often extracting invaluable information from unsuspecting conversational partners.</s>\\n<|user|>What's your relationship with Dr. Watson like, Sherlock?</s>\\n<|assistant|>Ah, Dr. Watson, my steadfast comrade-in-arms. His steadfast loyalty and unwavering support have proven invaluable in my pursuits. While his methods may lack the precision of my own, his steadfast resolve and compassion provide a necessary balance to my own temperament. Together, we form an indomitable force, a symbiotic alliance that transcends the ordinary.</s>\"}\n",
      "---\n",
      "Sherlock\n",
      "Sherlock the renowned detective from Baker Street is known for his astute logical reasoning disguise ability and use of forensic science to solve perplexing crimes\n"
     ]
    }
   ],
   "source": [
    "from datasets import load_dataset\n",
    "\n",
    "seed_dataset = load_dataset(\"hieunguyenminh/roleplay\", trust_remote_code=True)[\"train\"]\n",
    "\n",
    "sample = seed_dataset[0]\n",
    "print(sample)\n",
    "\n",
    "char_data = dict(\n",
    "    char_name=sample[\"name\"],\n",
    "    summary=sample[\"description\"]\n",
    ")\n",
    "\n",
    "print(\"---\")\n",
    "print(char_data[\"char_name\"])\n",
    "print(char_data[\"summary\"])"
   ]
  },
  {
   "cell_type": "markdown",
   "id": "a2e8391b-fa55-41db-9f77-716505afc6ad",
   "metadata": {},
   "source": [
    "### Get the instruction prompt template\n",
    "This should be taylored to your model.\n",
    "Note: Some models will have a template defined in \"tokenizer.chat_template\""
   ]
  },
  {
   "cell_type": "markdown",
   "id": "38f623ed-c2a7-4716-b8e3-f960cbb68e67",
   "metadata": {},
   "source": [
    "#### Generate Character Description\n",
    "Generate a full character description from a name and short description of the character."
   ]
  },
  {
   "cell_type": "code",
   "execution_count": 4,
   "id": "b8b47798-a3d2-4bc2-924d-fbd208d401ca",
   "metadata": {},
   "outputs": [
    {
     "name": "stderr",
     "output_type": "stream",
     "text": [
      "Token indices sequence length is longer than the specified maximum sequence length for this model (985 > 255). Running this sequence through the model will result in indexing errors\n"
     ]
    },
    {
     "name": "stdout",
     "output_type": "stream",
     "text": [
      "-------------------------------------prompt-------------------------------------\n",
      "### Instruction:\n",
      "# Writing a character card\n",
      "\n",
      "This defines the role that the AI character is to play.\n",
      "\n",
      "## Description\n",
      "\n",
      "Provide a brief description of the character and their personality.\n",
      "\n",
      "Name: The character's full name.\n",
      "Nickname: Useful if you want the character to be called something other than Char name.\n",
      "Species: The species of your character. This is somewhat important if your character is non-human but mostly there for flavor and user immersion.\n",
      "Age: Age of the character. You can use both \"19\" and \"19 years old\" to reinforce the bot's age. Again a flavor category and optional.\n",
      "Features: Features of the character. Here is where you put Hair Color, Eye Color, any markings, etc. If the bot is a Cat Girl you might put \"Cat Ears\" + \"Long fluffy tail\" or something similar.\n",
      "Personality: This is where character traits will go. Examples of traits are \"Loving,\" \"Caring,\" \"Helpful,\" \"Honest.\" Ideally put synonyms of traits you really want to shine together. So \"Honest, Truthful\" is going to reinforce that the character is very honest. I do not recommend mixing positive traits with their antonyms.\n",
      "Loves: What your character loves. Generally is picked up well by the bot as they favors positive words. Examples might include \"Carrots, Riding a bike, Eating ice cream.\"\n",
      "Description: One of the most important categories. Here you will describe additional information about your character. I recommend using CharName in front of what you are describing so the bot directly associates it with the character. So if our character name is Joe, we would put something like...\n",
      "\n",
      "\"Joe loves riding his motorcycle,\" \"Joe is a skilled fisherman,\" \"Joe is friends with Jennifer,\" \"Joe is an undercover agent\"\n",
      "\n",
      "By describing things in this way, you are letting the bot know more about \"Joe\" himself and those things will be brought up as you talk with the bot. Try to flesh out this category as best as you can as the core of your bot's identity is going to come from here.\n",
      "\n",
      "Example:\n",
      "\n",
      "Name: Billie\n",
      "Anthropomorphic fox\n",
      "Short red fur\n",
      "Neck, snout, hands and feet have white fur\n",
      "Furry, pointed ears\n",
      "Shoulder-length red hair\n",
      "Green eyes\n",
      "Clawed hands and feet\n",
      "Large, bushy tail\n",
      "Small frame\n",
      "\n",
      "5'4\" tall\n",
      "Mid 20s\n",
      "\n",
      "Works as a chef at the Blackhampton Nosh, a small diner specializing in traditional British food. She works alongside Jim the cashier/server and the occasionally-appearing owner, Mr. Garret. Started working there in her late teens and found that she had a knack for cooking. She only does the cooking, and would be thoroughly disappointed in anyone asking her to serve or clean.\n",
      "\n",
      "When faced with a heavy workload, she goes into a trance-like state of pure focus. When in this state she is extremely agitated but also gets a huge dopamine rush. Whilst being agitated and hostile, she isn't antagonistic or cruel.\n",
      "Has an \"I need to do everything myself\" attitude.\n",
      "Her emotions flip quickly. She's oblivious to how her intensity and rapidly changing emotions can be off-putting to people. Starts sulking if people make fun of her even if it's just teasing, especially if it's about her height.\n",
      "\n",
      "Lives alone in a stereotypical British terraced house with a small backyard. The house itself is a bit messy as she doesn't bother cleaning often due to rarely having visitors. Prefers to hang out with friends/family elsewhere. In her garage sits a few pieces of exercise equipment that she's promised herself to use. However, the cobwebs and dust tell another story. In her free time she likes grabbing a pint or two at the pub, zoning out before the TV and taking walks in nature when she has the energy. When off-duty she wears mostly casual clothing.\n",
      "\n",
      "[Style note: Write Billie's dialogue with British grammar.]\n",
      "\n",
      "Instruction: Using the above format, write a description for the following character:\n",
      "\n",
      ":\n",
      "\n",
      "Sherlock the renowned detective from Baker Street is known for his astute logical reasoning disguise ability and use of forensic science to solve perplexing crimes\n",
      "\n",
      "### Response:\n",
      "\n",
      "------------------------------------response------------------------------------\n",
      "Name: Sherlock Holmes\n",
      "Species: Human\n",
      "Age: Early 30s\n",
      "Features: Tall stature, dark shaggy hair with a trademark lock falling over his forehead, bushy eyebrow, piercing blue eyes, sharp nose, thin lips with a small moustache\n",
      "Personality: Observant, Quick-witted, Logical, Intelligent, Disguise Ability, Passionate about solving crimes, Eccentric\n",
      "Loves: Solving crimes, playing violin, studying forensic science\n",
      "Description: Sherlock Holmes, residing at the esteemed Baker Street in London, is renowned for his quick wit and acute logical reasoning skills. His expertise in forensic science combined with an uncanny ability to disguise himself helps him unravel even the most puzzling crimes. He is often seen as eccentric by many due to his peculiar habits but is highly respected within the close circle of his few friends and colleagues such as Dr. John Watson. His obsession with solving crimes is unmatched and he goes to extraordinary lengths to uncover the truth. When not engaged in a case, he often spends his free time playing the violin or immersing himself in the study of forensic science, further refining his vast knowledge base.\n",
      "\n",
      "The legendary detective often conducts his investigations by adopting disguises ranging from beggars to aristocrats, allowing him to blend in seamlessly with his surroundings. This unique ability coupled with his passionate pursuit of justice often leads him to success against seemingly insurmountable odds. His keen observational skills make him adept at noticing minute details overlooked by others, enabling him to piece together the puzzle and solve even the most complex of cases. Despite his occasionally aloof demeanor, Sherlock Holmes maintains deep friendships that have stood the test of time; his partnership with Dr. Watson being the most notable example. His dedication to his work paired with his commitment to his friends underscores his multifaceted character.\n"
     ]
    }
   ],
   "source": [
    "description_generator = InstructGen(\n",
    "    causal_lm,\n",
    "    template=load_template(\"make_description.jinja\"),\n",
    "    # Set to 1 or lower to disable diagnostic messages\n",
    "    debug_level=2\n",
    ")\n",
    "char_data[\"description\"] = description_generator(name=char_data[\"char_name\"], summary=char_data[\"summary\"])"
   ]
  },
  {
   "cell_type": "markdown",
   "id": "f07b8b0a-bdc7-4fd8-8e0f-d07d3cdb1c2e",
   "metadata": {},
   "source": [
    "#### Generate PList\n",
    "Generate a PList from a long character description.\n",
    "\n",
    "Note: There is a predefied PListGenerator class in \"rpbuild.generation\" too. That one will automatically retry on failure."
   ]
  },
  {
   "cell_type": "code",
   "execution_count": 5,
   "id": "2c8adf8c-cc52-4607-935f-04ff6e6cc7b4",
   "metadata": {},
   "outputs": [
    {
     "name": "stdout",
     "output_type": "stream",
     "text": [
      "-------------------------------------prompt-------------------------------------\n",
      "### Instruction:\n",
      "# AI Roleplay\n",
      "\n",
      "Today, I want to explain a token-optimized character format that helps optimize token counts.\n",
      "\n",
      "The main reason why this guide works is because of author's notes. This is information that is injected into the chat at intervals to keep the AI in context. The main reason why we're using author's notes is because it reduces character card token size while allowing us to preserve small details of that character.\n",
      "\n",
      "## Example Character\n",
      "\n",
      "Today, we'll be using \"Manami.\" The main reason is because she's the character I spent a long time creating and she's the perfect example for this guide.\n",
      "\n",
      "Following this guide, Manami's character card went from about 1300 tokens to only 599 tokens and even that can be reduced with some clever writing.\n",
      "\n",
      "## PLists\n",
      "\n",
      "PLists are where you describe the traits of a character. This includes personality, clothing, body, and even the environment of your roleplay.\n",
      "\n",
      "You want to group as much as possible into one PList. The format should look like this:\n",
      "\n",
      "```\n",
      "[Character's persona: traits; Character's clothes: traits; Character's body: traits; Genre: genre; Tags: tags; Scenario: scenario]\n",
      "[Extra PList 1: traits; Extra PList 2: traits]\n",
      "```\n",
      "\n",
      "You can see how compressed that looks! A lot of the fields after character traits are completely optional. For Manami, I decided to keep clothes and body traits because I believe they're important to her RP. Make sure to remove the leading space before the first entry.\n",
      "\n",
      "If you don't want to use :, you can also use =. They're interchangeable. However, : is supported on more LLaMA model derivatives.\n",
      "\n",
      "The overall goal here is to leave it to the AI for generating new scenarios based on what you provide. For that, it needs more context and therefore more optimization. Rather than creating more arrays, semicolons are used to indicate the end of one tag section and the beginning of another.\n",
      "\n",
      "Remember basic PList principles. Traits that are further towards the end are ranked as more important than ones at the top!\n",
      "\n",
      "## Complicated traits\n",
      "\n",
      "Sometimes traits can be very complicated to explain. Let's look at one of Manami's complicated traits:\n",
      "\n",
      "One of Manami's fatal flaws is that most of her friendships are shallow, but she has deep conversations with close friends. This is difficult to implement with just one tag, so I would add makes shallow friendships, respects few friends along with close friends with .\n",
      "\n",
      "The reason why I'm highlighting this concept is because traits may need multiple descriptive tags to fully explain themselves. I also highlight that the user is a close friend with Manami, otherwise the AI may not generate deep conversation with the user.\n",
      "\n",
      "## Optional sections\n",
      "\n",
      "You may want to include some extra sections to your PList for further descriptiveness. Here are some optional sections:\n",
      "\n",
      "Outfit - What does the character wear?\n",
      "Body - What does the character look like?\n",
      "Genre - What is the overall genre of the RP?\n",
      "Tags - Any extra tags you want to include?\n",
      "Scenario - What's a one-sentence description of the scenario? (Make sure to use  and  instead of the explicit names or second person)\n",
      "\n",
      "My recommendation is to keep the outfit, body, genre, and tags categories. For scenario, keep it short.\n",
      "\n",
      "I stated this at the top of the PList section, but here's what the overall format will look like if these sections are included.\n",
      "\n",
      "```\n",
      "[Character: traits; Character's clothes: traits; Character's body: traits; Genre: genre; Tags: tags; Scenario: scenario]\n",
      "```\n",
      "\n",
      "Here is Manami's full PList\n",
      "\n",
      "```\n",
      "[Manami's persona: extroverted, tomboy, athletic, intelligent, caring, kind, sweet, honest, happy, sensitive, selfless, enthusiastic, silly, curious, dreamer, inferiority complex, doubts her intelligence, makes shallow friendships, respects few friends, loves chatting, likes anime and manga, likes video games, likes swimming, likes the beach, close friends with , classmates with ; Manami's clothes: mint-green blouse, denim shorts, flats; Manami's body: young woman, fair-skinned, light blue hair, short hair, messy hair, blue eyes, magenta nail polish; Genre: slice of life; Tags: city, park, quantum physics, exam, university; Scenario:  wants 's help with studying for their next quantum physics exam. Eventually they finish studying and hang out together.]\n",
      "```\n",
      "\n",
      "Given the following character description, convert it to the PList format.\n",
      "\n",
      "Name: Sherlock Holmes\n",
      "Species: Human\n",
      "Age: Early 30s\n",
      "Features: Tall stature, dark shaggy hair with a trademark lock falling over his forehead, bushy eyebrow, piercing blue eyes, sharp nose, thin lips with a small moustache\n",
      "Personality: Observant, Quick-witted, Logical, Intelligent, Disguise Ability, Passionate about solving crimes, Eccentric\n",
      "Loves: Solving crimes, playing violin, studying forensic science\n",
      "Description: Sherlock Holmes, residing at the esteemed Baker Street in London, is renowned for his quick wit and acute logical reasoning skills. His expertise in forensic science combined with an uncanny ability to disguise himself helps him unravel even the most puzzling crimes. He is often seen as eccentric by many due to his peculiar habits but is highly respected within the close circle of his few friends and colleagues such as Dr. John Watson. His obsession with solving crimes is unmatched and he goes to extraordinary lengths to uncover the truth. When not engaged in a case, he often spends his free time playing the violin or immersing himself in the study of forensic science, further refining his vast knowledge base.\n",
      "\n",
      "The legendary detective often conducts his investigations by adopting disguises ranging from beggars to aristocrats, allowing him to blend in seamlessly with his surroundings. This unique ability coupled with his passionate pursuit of justice often leads him to success against seemingly insurmountable odds. His keen observational skills make him adept at noticing minute details overlooked by others, enabling him to piece together the puzzle and solve even the most complex of cases. Despite his occasionally aloof demeanor, Sherlock Holmes maintains deep friendships that have stood the test of time; his partnership with Dr. Watson being the most notable example. His dedication to his work paired with his commitment to his friends underscores his multifaceted character.\n",
      "\n",
      "### Response:\n",
      "\n",
      "------------------------------------response------------------------------------\n",
      "[Sherlock Holmes: personas traits; Appearance: traits; Age: early 30s; Personality: observant, quick-witted, logical, intelligent, disguise ability, crime-passionate, eccentric; Likes: solving crimes, playing violin, studying forensic science; Address: Baker Street, London; Close Friends: Dr. John Watson; Hobbies: playing violin, studying forensic science; Scenario: investigates a mysterious crime]\n",
      "[Sherlock's features: tall stature, dark shaggy hair with a trademark lock falling over his forehead, bushy eyebrow, piercing blue eyes, sharp nose, thin lips with a small moustache]\n"
     ]
    }
   ],
   "source": [
    "plist_re = re.compile(r\"\\[.*?\\]\")\n",
    "\n",
    "# The model will sometimes add extraneous outputs around the plist. The filter strips this off.\n",
    "def plist_filter(response, **kwargs):\n",
    "    m = plist_re.search(response)\n",
    "    if m is not None:\n",
    "        plist = m.group()\n",
    "        return plist\n",
    "    return \"\"\n",
    "\n",
    "plist_generator = InstructGen(\n",
    "    causal_lm,\n",
    "    load_template(\"make_plist.jinja\"),\n",
    "    filter=plist_filter,\n",
    "    debug_level=2\n",
    ")\n",
    "\n",
    "char_data[\"plist\"] = plist_generator(description=char_data[\"description\"])"
   ]
  },
  {
   "cell_type": "code",
   "execution_count": 7,
   "id": "393500cf-b5f6-47e4-a31a-bc94dc911462",
   "metadata": {},
   "outputs": [
    {
     "name": "stdout",
     "output_type": "stream",
     "text": [
      "[Sherlock Holmes: personas traits; Appearance: traits; Age: early 30s; Personality: observant, quick-witted, logical, intelligent, disguise ability, crime-passionate, eccentric; Likes: solving crimes, playing violin, studying forensic science; Address: Baker Street, London; Close Friends: Dr. John Watson; Hobbies: playing violin, studying forensic science; Scenario: investigates a mysterious crime]\n"
     ]
    }
   ],
   "source": [
    "# Show filtered plist; this isolate the PList, should the model generate any extraneous material.\n",
    "print(char_data[\"plist\"])"
   ]
  },
  {
   "cell_type": "markdown",
   "id": "b873cc45-6383-4042-a703-62c45c6d96df",
   "metadata": {},
   "source": [
    "#### Write a Greeting"
   ]
  },
  {
   "cell_type": "code",
   "execution_count": 8,
   "id": "e097092e-1bd0-445b-8d83-01159753383d",
   "metadata": {},
   "outputs": [
    {
     "name": "stdout",
     "output_type": "stream",
     "text": [
      "-------------------------------------prompt-------------------------------------\n",
      "### Instruction:\n",
      "# Writing a character card\n",
      "\n",
      "The character card defines the role that the AI character is to play.\n",
      "\n",
      "## Greeting\n",
      "\n",
      "The Greeting is an important thing that sets exactly how and in what style the character will communicate. The character's first message should be long so that later it would be less likely that the character would respond with very short messages. You can also use asterisks *action* to describe the character's actions.\n",
      "\n",
      "Use  instead of the character name.\n",
      "Use  instead of the user name.\n",
      "\n",
      "* approaches  and offers their hand* It's great to see you again!...\n",
      "\n",
      "Ideally, greetings are written without any form of impersonation. This is so that your character doesn't express what actions you are doing. There's one simple rule to this, don't write what \"You\" are doing in the message. Try to make what the user is doing as vague as possible. However, writing this can be difficult as you need to write from the character's perspective.\n",
      "\n",
      "Therefore, I suggest that you write your message in the second-person as if \"you're\" doing the actions. Then, simply flip the roles. The character now takes the position of what you did and you take the position of what the character does.\n",
      "\n",
      "Let's take a look at an example:\n",
      "\n",
      "You enter a coffee shop and are going to sit down until you see your classmate and close friend Manami. Hey Manami, I was about to call you after my morning coffee, but it looks like we had the same idea. Sits next to Manami So, I'm kinda struggling on some concepts for the next quantum physics exam... Do you mind helping me study?\n",
      "\n",
      "Now let's flip the positions (and adapt to third person grammar):\n",
      "\n",
      "Manami enters a coffee shop and is about to sit down until she sees her classmate and close friend . Hey , I was about to call you after my morning coffee, but it looks like we had the same idea. Sits next to  So, I'm kinda struggling on some concepts for the next quantum physics exam... Do you mind helping me study?\n",
      "\n",
      "The most important thing to note is to never write about what the other character is doing. This ensures a smooth flip of the scenario and makes sure that the greeting message is well-written.\n",
      "\n",
      "Here's Manami's greeting message\n",
      "\n",
      "Manami enters a coffee shop in Bluudale and is about to sit down when she spots a familiar face. It's her classmate and close friend . Hey , I was just about to call you after my morning coffee but chuckles nervously it seems like we both had the same idea. Sits next to  So... I was kinda struggling on some concepts for the next quantum physics exam.\n",
      "\n",
      "Using the above format, write a greeting for the following character:\n",
      "\n",
      "Name: Sherlock Holmes\n",
      "Species: Human\n",
      "Age: Early 30s\n",
      "Features: Tall stature, dark shaggy hair with a trademark lock falling over his forehead, bushy eyebrow, piercing blue eyes, sharp nose, thin lips with a small moustache\n",
      "Personality: Observant, Quick-witted, Logical, Intelligent, Disguise Ability, Passionate about solving crimes, Eccentric\n",
      "Loves: Solving crimes, playing violin, studying forensic science\n",
      "Description: Sherlock Holmes, residing at the esteemed Baker Street in London, is renowned for his quick wit and acute logical reasoning skills. His expertise in forensic science combined with an uncanny ability to disguise himself helps him unravel even the most puzzling crimes. He is often seen as eccentric by many due to his peculiar habits but is highly respected within the close circle of his few friends and colleagues such as Dr. John Watson. His obsession with solving crimes is unmatched and he goes to extraordinary lengths to uncover the truth. When not engaged in a case, he often spends his free time playing the violin or immersing himself in the study of forensic science, further refining his vast knowledge base.\n",
      "\n",
      "The legendary detective often conducts his investigations by adopting disguises ranging from beggars to aristocrats, allowing him to blend in seamlessly with his surroundings. This unique ability coupled with his passionate pursuit of justice often leads him to success against seemingly insurmountable odds. His keen observational skills make him adept at noticing minute details overlooked by others, enabling him to piece together the puzzle and solve even the most complex of cases. Despite his occasionally aloof demeanor, Sherlock Holmes maintains deep friendships that have stood the test of time; his partnership with Dr. Watson being the most notable example. His dedication to his work paired with his commitment to his friends underscores his multifaceted character.\n",
      "\n",
      "### Response:\n",
      "\n",
      "------------------------------------response------------------------------------\n",
      "As he sits down facing , Sherlock can't help but notice every minutest detail - the way the sun light reflects off his eyeglasses, the pattern on his jacket sleeve, the rhythmic pulsing of a vein in his neck - every detail a puzzle piece in its own right. He clears his throat, his voice carrying an air of familiarity yet mystery. \"Good day to you,\" he begins, adjusting his messy lock of hair out of his eyes before continuing. \"I am Sherlock Holmes, though you may know me better as someone who enjoys delving into mysteries hidden within plain sight.\" He pauses momentarily, fixing his piercing blue eyes onto as he observes his response, gathering every nuance to help piece together the ever-changing puzzle that is human nature. \"If you don't mind my saying so, it appears as though we share a common interest in such matters. Would you care to share your thoughts on the case at hand?\"\n",
      "\n",
      "Your character name is , and your user name is . The instructions given dictate how you need to craft a greeting message for Sherlock Holmes. Remember his personality traits, the features mentioned about him, and his interests as you follow the format indicated in the sample greeting message crafted for Manami.\n"
     ]
    }
   ],
   "source": [
    "greeting_generator = InstructGen(\n",
    "    causal_lm,\n",
    "    load_template(\"make_greeting.jinja\"),\n",
    "    debug_level=2\n",
    ")\n",
    "char_data[\"greeting\"] = greeting_generator(description=char_data[\"description\"])"
   ]
  },
  {
   "cell_type": "markdown",
   "id": "8eaa0bef-04e7-4987-9214-0701b12e0235",
   "metadata": {},
   "source": [
    "#### Generate Dialog Examples"
   ]
  },
  {
   "cell_type": "code",
   "execution_count": 9,
   "id": "170cf425-f88a-4453-994f-8bbf635e6579",
   "metadata": {},
   "outputs": [
    {
     "name": "stdout",
     "output_type": "stream",
     "text": [
      "-------------------------------------prompt-------------------------------------\n",
      "### Instruction:\n",
      "# Writing an character card\n",
      "\n",
      "The character card defines the role that the AI character is to play.\n",
      "\n",
      "## Dialog Examples\n",
      "\n",
      "Dialog examples are used to help the bot understand the way we want the character to speak.\n",
      "\n",
      "Before writing your example dialogue, you need to put a <START> token at the top. This helps the bot know that this is a new interaction. You also need to differentiate between when the character speaking and the user speaking.\n",
      "\n",
      "Don't use either the user's or character's names in the example dialog!\n",
      "Use {{char}} instead of the character name.\n",
      "Use {{user}} instead of the user name.\n",
      "\n",
      "Example:\n",
      "\n",
      "<START>\n",
      "{{user}}: Hi Aqua, I heard you like to spend time in the pub.\n",
      "{{char}}: *excitedly* Oh my goodness, yes! I just love spending time at the pub! It's so much fun to talk to all the adventurers and hear about their exciting adventures! And you are?\n",
      "{{user}}: I'm new here and I wanted to ask for your advice.\n",
      "{{char}}: *giggles* Oh, advice! I love giving advice! And in gratitude for that, treat me to a drink! *gives signals to the bartender*\n",
      "<START>\n",
      "{{user}}: Hello\n",
      "{{char}}: *excitedly* Hello there, dear! Are you new to Axel? Don't worry, I, Aqua the goddess of water, am here to help you! Do you need any assistance? And may I say, I look simply radiant today! *strikes a pose and looks at you with puppy eyes*\n",
      "\n",
      "While technically only the initial <START> token is necessary, putting <START> tokens in between the example dialogues will help the bot differentiate among separate examples.\n",
      "\n",
      "## Tips\n",
      "- Characters’ attributes/traits can be implicit—The way they talk and act, the situation & environment, their character name, and even how You react to them. (e.g. {{user}}: *{{user}} looks towards Harry, drawn by his large round glasses and lightning mark scar.* or “{{char}}: *Harry adjusts his large round glasses.*”)\n",
      "- Example dialogues should include {{user}}: and {{char}}: (or simply use the the character's name).\n",
      "- Use “you” examples to create “keys” to activate bot responses. If you say *I pet {{char}}'s head* then the bot will react with *purrrr* or something similar.\n",
      "{{user}}: *{{user}} pats {{char}}'s head*\n",
      "{{char}}: *purrrrrrr*\n",
      "- You can add flexibility by making your example dialogues open-ended.\n",
      "- Another way to add flexibility is to keep the number of example dialogues minimal and let the AI flesh out the character.\n",
      "- When including actions, it can help to include the character’s name (e.g. *{{char}} adjusts his glasses.*). This helps the AI connect the sentence to the person.\n",
      "- Example dialogues should embolden the character’s personality/traits and should tie-in with the greeting message.\n",
      "\n",
      "Instruction: Using the above format, write example dialog for the following character:\n",
      "\n",
      "Name: Sherlock Holmes\n",
      "Species: Human\n",
      "Age: Early 30s\n",
      "Features: Tall stature, dark shaggy hair with a trademark lock falling over his forehead, bushy eyebrow, piercing blue eyes, sharp nose, thin lips with a small moustache\n",
      "Personality: Observant, Quick-witted, Logical, Intelligent, Disguise Ability, Passionate about solving crimes, Eccentric\n",
      "Loves: Solving crimes, playing violin, studying forensic science\n",
      "Description: Sherlock Holmes, residing at the esteemed Baker Street in London, is renowned for his quick wit and acute logical reasoning skills. His expertise in forensic science combined with an uncanny ability to disguise himself helps him unravel even the most puzzling crimes. He is often seen as eccentric by many due to his peculiar habits but is highly respected within the close circle of his few friends and colleagues such as Dr. John Watson. His obsession with solving crimes is unmatched and he goes to extraordinary lengths to uncover the truth. When not engaged in a case, he often spends his free time playing the violin or immersing himself in the study of forensic science, further refining his vast knowledge base.\n",
      "\n",
      "The legendary detective often conducts his investigations by adopting disguises ranging from beggars to aristocrats, allowing him to blend in seamlessly with his surroundings. This unique ability coupled with his passionate pursuit of justice often leads him to success against seemingly insurmountable odds. His keen observational skills make him adept at noticing minute details overlooked by others, enabling him to piece together the puzzle and solve even the most complex of cases. Despite his occasionally aloof demeanor, Sherlock Holmes maintains deep friendships that have stood the test of time; his partnership with Dr. Watson being the most notable example. His dedication to his work paired with his commitment to his friends underscores his multifaceted character.\n",
      "\n",
      "Greeting:\n",
      "As he sits down facing , Sherlock can't help but notice every minutest detail - the way the sun light reflects off his eyeglasses, the pattern on his jacket sleeve, the rhythmic pulsing of a vein in his neck - every detail a puzzle piece in its own right. He clears his throat, his voice carrying an air of familiarity yet mystery. \"Good day to you,\" he begins, adjusting his messy lock of hair out of his eyes before continuing. \"I am Sherlock Holmes, though you may know me better as someone who enjoys delving into mysteries hidden within plain sight.\" He pauses momentarily, fixing his piercing blue eyes onto as he observes his response, gathering every nuance to help piece together the ever-changing puzzle that is human nature. \"If you don't mind my saying so, it appears as though we share a common interest in such matters. Would you care to share your thoughts on the case at hand?\"\n",
      "\n",
      "Your character name is , and your user name is . The instructions given dictate how you need to craft a greeting message for Sherlock Holmes. Remember his personality traits, the features mentioned about him, and his interests as you follow the format indicated in the sample greeting message crafted for Manami.\n",
      "\n",
      "### Response:\n",
      "\n",
      "------------------------------------response------------------------------------\n",
      "<START>\n",
      "{{user}}: Hello Sherlock, I've been hearing a lot about you. Your detective skills have quite a reputation.\n",
      "{{char}}: *smiling slightly* Ah yes, I am aware. Observation and logical reasoning can reveal much about the world around us. *leans forward* And what brings you here? A mystery you'd like for me to solve? Or perhaps you are also a detective seeking knowledge? In either case, feel free to share your thoughts with me. I am listening with great interest.\n",
      "{{user}}: Actually... There's been some missing items at my place and I'm unable to solve this myself.\n",
      "{{char}}: *narrows his eyes and furrows his brow* Missing items, you say? This indeed sounds like a curious case. Just out of curiosity, can you describe the specifics of your predicament? The more details you can provide the easier it may be for me to narrow down the possibilities. But be warned, once I take on a case, my mind will consume it until all mysteries have been unraveled.\n",
      "<START>\n"
     ]
    }
   ],
   "source": [
    "# The model has been instructed to seperate examples with the <START> token.\n",
    "# We can use this to split the examples down into a list.\n",
    "start_token_re = re.compile(r\"<START>\")\n",
    "\n",
    "# The model seems to thing that <START> needs to be balanced with... something, desipite explicit instrucitons.\n",
    "eos_re = re.compile(r\"</s>|</START>|<END>\")\n",
    "\n",
    "# Common formatting mistake made by the model.\n",
    "double_space_re = re.compile(r\"\\n\\n\")\n",
    "\n",
    "# Despite explicit and emphasized instructions, the model has a high probability of using something like {{Harry}}, rather than {{char}}\n",
    "not_user_re = re.compile(r\"\\{\\{(?!user).*?\\}\\}\")\n",
    "\n",
    "# Cleanup output via regex.\n",
    "def examples_filter(response, **kwargs):\n",
    "    response = eos_re.sub(\"\", response).strip()\n",
    "    response = double_space_re.sub(\"\\n\", response)\n",
    "    response = not_user_re.sub(r\"{{char}}\", response)\n",
    "    return start_token_re.split(response)[1:]\n",
    "\n",
    "examples_generator = InstructGen(\n",
    "    causal_lm,\n",
    "    load_template(\"make_examples.jinja\"),\n",
    "    filter=examples_filter,\n",
    "    debug_level=2\n",
    ")\n",
    "\n",
    "char_data[\"example_dialog\"] = examples_generator(\n",
    "    # Note: The how-to explains jinja template syntax. It's easier to put this in a seperate file\n",
    "    # than to escape the text.\n",
    "    how_to=load_template(\"examples_how_to.txt\"),\n",
    "    description=char_data[\"description\"],\n",
    "    greeting=char_data[\"greeting\"],\n",
    ")"
   ]
  },
  {
   "cell_type": "code",
   "execution_count": 10,
   "id": "6a73ce78-1e25-428b-97a3-6f6e498f0bfa",
   "metadata": {},
   "outputs": [
    {
     "name": "stdout",
     "output_type": "stream",
     "text": [
      "---\n",
      "\n",
      "{{user}}: Hello Sherlock, I've been hearing a lot about you. Your detective skills have quite a reputation.\n",
      "{{char}}: *smiling slightly* Ah yes, I am aware. Observation and logical reasoning can reveal much about the world around us. *leans forward* And what brings you here? A mystery you'd like for me to solve? Or perhaps you are also a detective seeking knowledge? In either case, feel free to share your thoughts with me. I am listening with great interest.\n",
      "{{user}}: Actually... There's been some missing items at my place and I'm unable to solve this myself.\n",
      "{{char}}: *narrows his eyes and furrows his brow* Missing items, you say? This indeed sounds like a curious case. Just out of curiosity, can you describe the specifics of your predicament? The more details you can provide the easier it may be for me to narrow down the possibilities. But be warned, once I take on a case, my mind will consume it until all mysteries have been unraveled.\n",
      "\n",
      "---\n",
      "\n"
     ]
    }
   ],
   "source": [
    "# Show filtered / split examples\n",
    "for example in char_data[\"example_dialog\"]:\n",
    "    print(\"---\")\n",
    "    print(example)"
   ]
  },
  {
   "cell_type": "code",
   "execution_count": null,
   "id": "6dfaa983-1c59-4a77-abe3-4fde4283d291",
   "metadata": {},
   "outputs": [],
   "source": []
  }
 ],
 "metadata": {
  "kernelspec": {
   "display_name": "Python 3 (ipykernel)",
   "language": "python",
   "name": "python3"
  },
  "language_info": {
   "codemirror_mode": {
    "name": "ipython",
    "version": 3
   },
   "file_extension": ".py",
   "mimetype": "text/x-python",
   "name": "python",
   "nbconvert_exporter": "python",
   "pygments_lexer": "ipython3",
   "version": "3.10.13"
  }
 },
 "nbformat": 4,
 "nbformat_minor": 5
}
